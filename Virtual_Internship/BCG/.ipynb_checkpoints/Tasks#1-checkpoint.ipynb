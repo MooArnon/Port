{
 "cells": [
  {
   "cell_type": "markdown",
   "id": "6297e206",
   "metadata": {},
   "source": [
    "# Client Background & Hypothesis Framing\n",
    "This task will relate to understanding and forming hypotheses from business, problems and policies.\n",
    "\n",
    "Our audient is PowerCo; the SME major gas and electricity utility that supplies to corporate.\n",
    "The problem in the situation is the number of customers significant reduced, churning. \n",
    "A fair hypothesis is price changes. #Which customers are more (or less) likely to churn at their current price?\n",
    "\n",
    "The head of the SME division is considering a 20% discount. #Would it be big enough to convince the customer to stay; especially those for whom price is the primary concern. AD wants to know that if the churn is driven by the customers’ price sensitivities.\n",
    "The client plans to use the predictive model on the 1st working day of every month to indicate to which customers the 20% discount should be offered.\n",
    "\n",
    "Client is a major gas and electricity utility\n",
    "Churn is driven by customer price sensitivity\n",
    "Client wants to try discounting strategy; offering customers at high propensity to churn a 20% discount might be effective."
   ]
  },
  {
   "cell_type": "markdown",
   "id": "b566a4a4",
   "metadata": {},
   "source": [
    "# My Answer\n",
    "## Hypothesis\n",
    "The churning might come from the disruption of other companies. Changing partner, or electrical infrastructure, must use high cost; time, money and employee. For this reason, the only way to construct the big change of company is the lower of electric cost or some promotions from the others. \n",
    "\n",
    "Moreover, the main churning segment is SME customers. In a big enterprise, the cost of the production process is very low, in the mass production system. Therefore, the effect of the price of infrastructure will lower affect the profit of the company compared with a small enterprise. This reason is suitable for the cause of churning.\n",
    "In the other words, price changing will affect the small enterprise more than the huge enterprise; in the case of production infrastructures.\n",
    "\n",
    "## Essential Data Sets\n",
    "To test the hypothesis and analyze the outcome from the new policy, give the discount to the price-sensitive customer segment. The confirmation of the problem must be performed.\n",
    "\n",
    "If the first hypothesis is true, the next step is to guarantee the efficiency of the discount strategy. \n",
    "The process is related to a significant relationship between price and sales, \"Significant Relationship\". \n",
    "Therefore, the analyzable data must contain time, price, customer status and customer segment.\n",
    "\n",
    "1. Historical sales data; Including time series, electrical prices, customer segments, status, size of company and sales record.\n",
    "2. Sale strategy analysis; Including time series, electrical prices, customer segments, status and sales record.\n",
    "\n",
    "PS: if possible, Would you kindly list the rival yours, this data will be used to confirm the stealing customer's hypothesis.\n",
    "\n",
    "PSS: Customer status must be contained churning status. \n",
    "\n",
    "## Working Process\n",
    "1. Clean data and data exploration.\n",
    "2. Features Engineering before model building.\n",
    "3. Build binary model based on data, objective and features analysis.\n",
    "4. Testing the accuracy of model.\n",
    "5. Lunch model to customer and use in real fied."
   ]
  },
  {
   "cell_type": "code",
   "execution_count": null,
   "id": "2d4d6c56",
   "metadata": {},
   "outputs": [],
   "source": []
  }
 ],
 "metadata": {
  "kernelspec": {
   "display_name": "Python 3.8.10 64-bit ('DS': conda)",
   "language": "python",
   "name": "python3810jvsc74a57bd02cd0c62ea81a523047021d46b711cbc296b261100c6ac82b8beac916744a5340"
  },
  "language_info": {
   "codemirror_mode": {
    "name": "ipython",
    "version": 3
   },
   "file_extension": ".py",
   "mimetype": "text/x-python",
   "name": "python",
   "nbconvert_exporter": "python",
   "pygments_lexer": "ipython3",
   "version": "3.8.10"
  }
 },
 "nbformat": 4,
 "nbformat_minor": 5
}
